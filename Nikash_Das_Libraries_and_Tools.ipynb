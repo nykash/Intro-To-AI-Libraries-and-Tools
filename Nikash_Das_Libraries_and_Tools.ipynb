{
  "nbformat": 4,
  "nbformat_minor": 0,
  "metadata": {
    "colab": {
      "name": "Nikash Das Libraries and Tools.ipynb",
      "provenance": [],
      "collapsed_sections": []
    },
    "kernelspec": {
      "name": "python3",
      "display_name": "Python 3"
    }
  },
  "cells": [
    {
      "cell_type": "markdown",
      "metadata": {
        "id": "Q62GJJzys3bN"
      },
      "source": [
        "IMPORTS"
      ]
    },
    {
      "cell_type": "code",
      "metadata": {
        "id": "MUgLtQYdsPkS"
      },
      "source": [
        "from sklearn import datasets, ensemble, linear_model, model_selection, svm"
      ],
      "execution_count": null,
      "outputs": []
    },
    {
      "cell_type": "markdown",
      "metadata": {
        "id": "YS24Mu22s4wb"
      },
      "source": [
        "load dataset"
      ]
    },
    {
      "cell_type": "code",
      "metadata": {
        "id": "FsaiOqs0sWfu"
      },
      "source": [
        "X, y = datasets.load_iris(return_X_y=True)\r\n",
        "X_train, X_test, y_train, y_test = model_selection.train_test_split(X, y, test_size=0.3)"
      ],
      "execution_count": null,
      "outputs": []
    },
    {
      "cell_type": "markdown",
      "metadata": {
        "id": "msnTDnhIs93i"
      },
      "source": [
        "Logistic Classifier Solution"
      ]
    },
    {
      "cell_type": "code",
      "metadata": {
        "colab": {
          "base_uri": "https://localhost:8080/"
        },
        "id": "X_DUPFgQs7hg",
        "outputId": "929f62ed-d6c3-4ff9-b96d-41798dfdb9ac"
      },
      "source": [
        "lc_model = linear_model.SGDClassifier()\r\n",
        "lc_model.fit(X_train, y_train)\r\n",
        "\r\n",
        "lc_model.score(X_test, y_test)"
      ],
      "execution_count": null,
      "outputs": [
        {
          "output_type": "execute_result",
          "data": {
            "text/plain": [
              "0.7333333333333333"
            ]
          },
          "metadata": {
            "tags": []
          },
          "execution_count": 6
        }
      ]
    },
    {
      "cell_type": "markdown",
      "metadata": {
        "id": "w-iUi0wWt-4K"
      },
      "source": [
        "now lets try a random forest algorithm"
      ]
    },
    {
      "cell_type": "code",
      "metadata": {
        "colab": {
          "base_uri": "https://localhost:8080/"
        },
        "id": "yjtWWHCnt-I_",
        "outputId": "2a1174ab-480b-4706-efab-969ab51c2f57"
      },
      "source": [
        "rf_model = ensemble.RandomForestClassifier(n_estimators=12)\r\n",
        "rf_model.fit(X_train, y_train)\r\n",
        "\r\n",
        "rf_model.score(X_test, y_test)"
      ],
      "execution_count": null,
      "outputs": [
        {
          "output_type": "execute_result",
          "data": {
            "text/plain": [
              "0.9333333333333333"
            ]
          },
          "metadata": {
            "tags": []
          },
          "execution_count": 7
        }
      ]
    },
    {
      "cell_type": "markdown",
      "metadata": {
        "id": "dJrE30OJuRam"
      },
      "source": [
        "now finnaly a support vector"
      ]
    },
    {
      "cell_type": "code",
      "metadata": {
        "colab": {
          "base_uri": "https://localhost:8080/"
        },
        "id": "n61IUANKuTb8",
        "outputId": "977a7c1e-28bb-4787-9980-04737d9a374d"
      },
      "source": [
        "sv_model = svm.SVC()\r\n",
        "sv_model.fit(X_train, y_train)\r\n",
        "\r\n",
        "sv_model.score(X_test, y_test)"
      ],
      "execution_count": null,
      "outputs": [
        {
          "output_type": "execute_result",
          "data": {
            "text/plain": [
              "0.9333333333333333"
            ]
          },
          "metadata": {
            "tags": []
          },
          "execution_count": 8
        }
      ]
    },
    {
      "cell_type": "markdown",
      "metadata": {
        "id": "dMTY4ZPHur4D"
      },
      "source": [
        "Just with some testing, the best performance was acheived by the random forest algorithm with a 97.77% test success rate, the most reliable was the support vector, that consistently hit 95.5% and the least reliable and lowest performing was the simple linear classifier."
      ]
    },
    {
      "cell_type": "markdown",
      "metadata": {
        "id": "VgiWGePqkX1S"
      },
      "source": [
        "Now lets do a regression model on the Boston dataset"
      ]
    },
    {
      "cell_type": "code",
      "metadata": {
        "colab": {
          "base_uri": "https://localhost:8080/"
        },
        "id": "kcZMyE41kV3Q",
        "outputId": "0bf831ca-ada5-4b52-f126-6926fc503994"
      },
      "source": [
        "from sklearn.datasets import load_boston\r\n",
        "from sklearn.linear_model import LinearRegression\r\n",
        "\r\n",
        "X, y = load_boston(return_X_y=True)\r\n",
        "\r\n",
        "X_train, X_test, y_train, y_test = model_selection.train_test_split(X, y, test_size=0.3)\r\n",
        "\r\n",
        "linear_reg_model = LinearRegression()\r\n",
        "linear_reg_model.fit(X_train, y_train)\r\n",
        "\r\n",
        "linear_reg_model.score(X_test, y_test)"
      ],
      "execution_count": null,
      "outputs": [
        {
          "output_type": "execute_result",
          "data": {
            "text/plain": [
              "0.7599343115812215"
            ]
          },
          "metadata": {
            "tags": []
          },
          "execution_count": 18
        }
      ]
    },
    {
      "cell_type": "markdown",
      "metadata": {
        "id": "pjTX7UMxmvyu"
      },
      "source": [
        "Now I'm using the lonosphere dataset on a Binary Classification problem"
      ]
    },
    {
      "cell_type": "code",
      "metadata": {
        "colab": {
          "base_uri": "https://localhost:8080/"
        },
        "id": "sArvIr0olIWy",
        "outputId": "95e40842-54b5-4186-c721-9b7d197eaeb7"
      },
      "source": [
        "import pandas as pd \r\n",
        "import numpy as np\r\n",
        "from sklearn.linear_model import LogisticRegression\r\n",
        "\r\n",
        "test_percent = 0.25\r\n",
        "\r\n",
        "data = pd.read_csv(\"ionosphere.csv\")\r\n",
        "\r\n",
        "data = data.replace(\"b\", 0)\r\n",
        "data = data.replace(\"g\", 1)\r\n",
        "\r\n",
        "data_split_indices = np.random.random(len(data.index)) < (1-test_percent)\r\n",
        "\r\n",
        "train = data[data_split_indices]\r\n",
        "test = data[~data_split_indices]\r\n",
        "\r\n",
        "X_train = train.iloc[:, :-1]\r\n",
        "y_train = train.iloc[:, -1]\r\n",
        "print(X_train, y_train)\r\n",
        "\r\n",
        "X_test = train.iloc[:, :-1]\r\n",
        "y_test = train.iloc[:, -1]\r\n",
        "\r\n",
        "log_reg_model = LogisticRegression()\r\n",
        "log_reg_model.fit(X_train, y_train)\r\n",
        "\r\n",
        "log_reg_model.score(X_test, y_test)"
      ],
      "execution_count": null,
      "outputs": [
        {
          "output_type": "stream",
          "text": [
            "     Column1  Column2  Column3  Column4  ...  Column31  Column32  Column33  Column34\n",
            "0          1        0  0.99539 -0.05889  ...   0.42267  -0.54487   0.18641  -0.45300\n",
            "2          1        0  1.00000 -0.03365  ...   0.60436  -0.24180   0.56045  -0.38238\n",
            "3          1        0  1.00000 -0.45161  ...   0.25682   1.00000  -0.32382   1.00000\n",
            "4          1        0  1.00000 -0.02401  ...  -0.05707  -0.59573  -0.04608  -0.65697\n",
            "5          1        0  0.02337 -0.00592  ...   0.00000   0.00000  -0.00039   0.12011\n",
            "..       ...      ...      ...      ...  ...       ...       ...       ...       ...\n",
            "345        1        0  0.66667 -0.01366  ...   0.55328   0.24590   0.13934   0.48087\n",
            "346        1        0  0.83508  0.08298  ...   0.86660  -0.10714   0.90546  -0.04307\n",
            "347        1        0  0.95113  0.00419  ...   0.94066  -0.00035   0.91483   0.04712\n",
            "348        1        0  0.94701 -0.00034  ...   0.92459   0.00442   0.92697  -0.00577\n",
            "350        1        0  0.84710  0.13533  ...   0.75747  -0.06678   0.85764  -0.06151\n",
            "\n",
            "[256 rows x 34 columns] 0      1\n",
            "2      1\n",
            "3      0\n",
            "4      1\n",
            "5      0\n",
            "      ..\n",
            "345    1\n",
            "346    1\n",
            "347    1\n",
            "348    1\n",
            "350    1\n",
            "Name: Column35, Length: 256, dtype: int64\n"
          ],
          "name": "stdout"
        },
        {
          "output_type": "execute_result",
          "data": {
            "text/plain": [
              "0.91796875"
            ]
          },
          "metadata": {
            "tags": []
          },
          "execution_count": 36
        }
      ]
    },
    {
      "cell_type": "code",
      "metadata": {
        "id": "8mOncHTGot73"
      },
      "source": [
        ""
      ],
      "execution_count": null,
      "outputs": []
    }
  ]
}